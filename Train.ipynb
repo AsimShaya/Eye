{
 "cells": [
  {
   "cell_type": "markdown",
   "id": "4d239412",
   "metadata": {},
   "source": [
    "# YOLOv7 Model Training"
   ]
  },
  {
   "cell_type": "markdown",
   "id": "22eb9e79",
   "metadata": {},
   "source": [
    "### importations"
   ]
  },
  {
   "cell_type": "code",
   "execution_count": null,
   "id": "f1c011c0",
   "metadata": {},
   "outputs": [],
   "source": [
    "import os\n",
    "import glob as glob\n",
    "import matplotlib.pyplot as plt\n",
    "import random\n",
    "import cv2"
   ]
  },
  {
   "cell_type": "markdown",
   "id": "7d71b678",
   "metadata": {},
   "source": [
    "### Downloading yolov7 model with all files"
   ]
  },
  {
   "cell_type": "code",
   "execution_count": null,
   "id": "0993c005",
   "metadata": {},
   "outputs": [],
   "source": [
    "!git clone https://github.com/WongKinYiu/yolov7.git"
   ]
  },
  {
   "cell_type": "markdown",
   "id": "97cda97f",
   "metadata": {},
   "source": [
    "### installing all required libraries for yolov7"
   ]
  },
  {
   "cell_type": "code",
   "execution_count": null,
   "id": "81dc232f",
   "metadata": {},
   "outputs": [],
   "source": [
    "%cd yolov7\n",
    "!pip install -r requirements.txt\n",
    "!pip uninstall wandb -y"
   ]
  },
  {
   "cell_type": "markdown",
   "id": "19480732",
   "metadata": {},
   "source": [
    "### downloading the tiny model to train on custom dataset\n",
    "#### you can use the regular model (https://github.com/WongKinYiu/yolov7/releases/download/v0.1/yolov7.pt) but it will be larger"
   ]
  },
  {
   "cell_type": "code",
   "execution_count": null,
   "id": "0d88e6ca",
   "metadata": {},
   "outputs": [],
   "source": [
    "!wget https://github.com/WongKinYiu/yolov7/releases/download/v0.1/yolov7-tiny.pt"
   ]
  },
  {
   "cell_type": "code",
   "execution_count": null,
   "id": "17a9cfea",
   "metadata": {},
   "outputs": [],
   "source": [
    "%mkdir config"
   ]
  },
  {
   "cell_type": "markdown",
   "id": "df9807bf",
   "metadata": {},
   "source": [
    "### creating custom config for custom data training"
   ]
  },
  {
   "cell_type": "code",
   "execution_count": null,
   "id": "e6e78871",
   "metadata": {
    "scrolled": true
   },
   "outputs": [],
   "source": [
    "%%writefile config/fire.yaml\n",
    "\n",
    "train: ../dataset/fire/train/images\n",
    "val: ../dataset/fire/valid/images\n",
    "test: \n",
    "\n",
    "# Classes\n",
    "nc: 1  # number of classes\n",
    "names: ['fire']  # class names"
   ]
  },
  {
   "cell_type": "markdown",
   "id": "6f2312de",
   "metadata": {},
   "source": [
    "### changing class number because we used only 1"
   ]
  },
  {
   "cell_type": "code",
   "execution_count": null,
   "id": "0ede60e4",
   "metadata": {},
   "outputs": [],
   "source": [
    "old = open(\"yolov7/cfg/training/yolov7-tiny.yaml\",\"r\").readlines()\n",
    "old[1] = \"nc: 1  # number of classes\\n\"\n",
    "new = open(\"yolov7/cfg/training/yolov7-tiny.yaml\",\"w\")\n",
    "for line in old:\n",
    "    new.writelines(line)\n",
    "new.close()"
   ]
  },
  {
   "cell_type": "markdown",
   "id": "cd45af6a",
   "metadata": {},
   "source": [
    "### Model Training & Saving"
   ]
  },
  {
   "cell_type": "code",
   "execution_count": null,
   "id": "5a8b361d",
   "metadata": {},
   "outputs": [],
   "source": [
    "!python train.py --epochs 100 --workers 4 --device 0 --batch-size 4 --data config/fire.yaml --img 640 640 --cfg cfg/training/yolov7-tiny.yaml --weights 'yolov7-tiny.pt' --name fire --hyp data/hyp.scratch.tiny.yaml"
   ]
  },
  {
   "cell_type": "markdown",
   "id": "61fadcf3",
   "metadata": {},
   "source": [
    "## When Training Ends, the path of the model(best.pt) will be printed, move it here."
   ]
  }
 ],
 "metadata": {
  "kernelspec": {
   "display_name": "Python 3 (ipykernel)",
   "language": "python",
   "name": "python3"
  },
  "language_info": {
   "codemirror_mode": {
    "name": "ipython",
    "version": 3
   },
   "file_extension": ".py",
   "mimetype": "text/x-python",
   "name": "python",
   "nbconvert_exporter": "python",
   "pygments_lexer": "ipython3",
   "version": "3.8.8"
  }
 },
 "nbformat": 4,
 "nbformat_minor": 5
}
