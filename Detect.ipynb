{
 "cells": [
  {
   "cell_type": "markdown",
   "id": "4d239412",
   "metadata": {},
   "source": [
    "# Model using for detection"
   ]
  },
  {
   "cell_type": "markdown",
   "id": "22eb9e79",
   "metadata": {},
   "source": [
    "## Importat note: Skip Steps 1,2 if you did run (Train.ipynb)"
   ]
  },
  {
   "cell_type": "markdown",
   "id": "7d71b678",
   "metadata": {},
   "source": [
    "### Step1 - Downloading yolov7 model with all files"
   ]
  },
  {
   "cell_type": "code",
   "execution_count": null,
   "id": "0993c005",
   "metadata": {},
   "outputs": [],
   "source": [
    "!git clone https://github.com/WongKinYiu/yolov7.git"
   ]
  },
  {
   "cell_type": "markdown",
   "id": "97cda97f",
   "metadata": {},
   "source": [
    "### Step2 - installing all required libraries for yolov7"
   ]
  },
  {
   "cell_type": "code",
   "execution_count": null,
   "id": "81dc232f",
   "metadata": {},
   "outputs": [],
   "source": [
    "%cd yolov7\n",
    "!pip install -r requirements.txt\n",
    "!pip uninstall wandb -y"
   ]
  },
  {
   "cell_type": "markdown",
   "id": "fdb287fa",
   "metadata": {},
   "source": [
    "### Step3 - Change (FILENAME) with the target file to detect"
   ]
  },
  {
   "cell_type": "code",
   "execution_count": null,
   "id": "a7611349",
   "metadata": {},
   "outputs": [],
   "source": [
    "!python detect.py --weights best.pt --conf 0.25 --img-size 640 --source FILENAME"
   ]
  },
  {
   "cell_type": "markdown",
   "id": "eca2a1b1",
   "metadata": {},
   "source": [
    "## All runs will be saved under the file (runs\\detect\\*)"
   ]
  }
 ],
 "metadata": {
  "kernelspec": {
   "display_name": "Python 3 (ipykernel)",
   "language": "python",
   "name": "python3"
  },
  "language_info": {
   "codemirror_mode": {
    "name": "ipython",
    "version": 3
   },
   "file_extension": ".py",
   "mimetype": "text/x-python",
   "name": "python",
   "nbconvert_exporter": "python",
   "pygments_lexer": "ipython3",
   "version": "3.8.8"
  }
 },
 "nbformat": 4,
 "nbformat_minor": 5
}
